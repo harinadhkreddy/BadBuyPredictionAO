{
  "nbformat": 4,
  "nbformat_minor": 0,
  "metadata": {
    "colab": {
      "name": "bb3.ipynb",
      "provenance": [],
      "authorship_tag": "ABX9TyPTdykY4m2Ekrjwsr/4qCov"
    },
    "kernelspec": {
      "name": "python3",
      "display_name": "Python 3"
    },
    "language_info": {
      "name": "python"
    },
    "accelerator": "GPU"
  },
  "cells": [
    {
      "cell_type": "code",
      "execution_count": null,
      "metadata": {
        "id": "Bai1e9fF4izI"
      },
      "outputs": [],
      "source": [
        "import numpy as np \n",
        "import pandas as pd\n",
        "import matplotlib.pyplot as plt\n",
        "import seaborn as sns"
      ]
    },
    {
      "cell_type": "code",
      "source": [
        "from google.colab import drive\n",
        "drive.mount(\"/content/drive\")"
      ],
      "metadata": {
        "colab": {
          "base_uri": "https://localhost:8080/"
        },
        "id": "-eDMnagg4rAp",
        "outputId": "60dc598d-520a-433b-86ba-0ec908723031"
      },
      "execution_count": null,
      "outputs": [
        {
          "output_type": "stream",
          "name": "stdout",
          "text": [
            "Mounted at /content/drive\n"
          ]
        }
      ]
    },
    {
      "cell_type": "code",
      "source": [
        "X_train= pd.read_csv(\"/content/drive/My Drive/data/badbuyprediction/X_train.csv\",index_col=False)\n",
        "X_cv= pd.read_csv(\"/content/drive/My Drive/data/badbuyprediction/X_cv.csv\",index_col=False)\n",
        "X_test =pd.read_csv(\"/content/drive/My Drive/data/badbuyprediction/X_test.csv\",index_col=False)\n",
        "y_train =pd.read_csv(\"/content/drive/My Drive/data/badbuyprediction/y_train.csv\",index_col=False)\n",
        "y_cv=pd.read_csv(\"/content/drive/My Drive/data/badbuyprediction/y_cv.csv\",index_col=False)"
      ],
      "metadata": {
        "id": "A0lqhEVr44nE"
      },
      "execution_count": null,
      "outputs": []
    },
    {
      "cell_type": "code",
      "source": [
        "def shap():\n",
        "  print('Shapes of X_train.shape,X_cv.shape,y_train.shape,y_cv.shape,X_test.shape :')\n",
        "  print(X_train.shape,X_cv.shape,y_train.shape,y_cv.shape,X_test.shape)\n",
        "  return"
      ],
      "metadata": {
        "id": "OwtnTw1J55Rn"
      },
      "execution_count": null,
      "outputs": []
    },
    {
      "cell_type": "code",
      "source": [
        "shap()"
      ],
      "metadata": {
        "colab": {
          "base_uri": "https://localhost:8080/"
        },
        "id": "N4zVMOjt6Grn",
        "outputId": "6460d24f-3fe8-4ada-9461-213a6807a23c"
      },
      "execution_count": null,
      "outputs": [
        {
          "output_type": "stream",
          "name": "stdout",
          "text": [
            "Shapes of X_train.shape,X_cv.shape,y_train.shape,y_cv.shape,X_test.shape :\n",
            "(83908, 201) (24085, 201) (83908, 2) (24085, 2) (48707, 201)\n"
          ]
        }
      ]
    },
    {
      "cell_type": "code",
      "source": [
        "X_train=X_train.drop(X_train.columns[0],axis=1)\n",
        "X_cv=X_cv.drop(X_cv.columns[0],axis=1)\n",
        "X_test=X_test.drop(X_test.columns[0],axis=1)\n",
        "y_train=y_train.drop(y_train.columns[0],axis=1)\n",
        "y_cv=y_cv.drop(y_cv.columns[0],axis=1)"
      ],
      "metadata": {
        "id": "eIYamTig6HXt"
      },
      "execution_count": null,
      "outputs": []
    },
    {
      "cell_type": "code",
      "source": [
        "shap()"
      ],
      "metadata": {
        "colab": {
          "base_uri": "https://localhost:8080/"
        },
        "id": "kS9x5YQn_kXk",
        "outputId": "d3dbfbd6-052d-491f-90ef-800030ff5b01"
      },
      "execution_count": null,
      "outputs": [
        {
          "output_type": "stream",
          "name": "stdout",
          "text": [
            "Shapes of X_train.shape,X_cv.shape,y_train.shape,y_cv.shape,X_test.shape :\n",
            "(83908, 200) (24085, 200) (83908, 1) (24085, 1) (48707, 200)\n"
          ]
        }
      ]
    },
    {
      "cell_type": "code",
      "source": [
        "from sklearn.metrics import precision_score ,recall_score , confusion_matrix , f1_score, accuracy_score\n",
        "from sklearn.metrics import classification_report\n",
        "def met(y_pred,y_true):\n",
        "    print(\"accuracy:\"+ str(accuracy_score(y_pred,y_true)))\n",
        "    print(\"Precesion:\"+ str(precision_score(y_pred,y_true)))\n",
        "    print(\"Recall:\"+ str(recall_score(y_pred,y_true)))\n",
        "    print(\"F1 Score:\"+str(f1_score(y_pred,y_true)))\n",
        "    print(\"Confusion Matrix:\")\n",
        "    print(confusion_matrix(y_pred,y_true))\n",
        "    return"
      ],
      "metadata": {
        "id": "lOukxzU1BiA2"
      },
      "execution_count": null,
      "outputs": []
    },
    {
      "cell_type": "code",
      "source": [
        ""
      ],
      "metadata": {
        "id": "IFprvuJUB4aP"
      },
      "execution_count": null,
      "outputs": []
    },
    {
      "cell_type": "code",
      "source": [
        "import tensorflow.keras as keras\n",
        "from tensorflow.keras import Sequential\n",
        "from tensorflow.keras.layers import *\n",
        "import tensorflow as tf"
      ],
      "metadata": {
        "id": "TFcZQzepAiZj"
      },
      "execution_count": null,
      "outputs": []
    },
    {
      "cell_type": "code",
      "source": [
        "from tensorflow.python.client import device_lib\n",
        "device_lib.list_local_devices()"
      ],
      "metadata": {
        "colab": {
          "base_uri": "https://localhost:8080/"
        },
        "id": "lqZF2QX-Bdac",
        "outputId": "980ee072-c18d-4429-a799-6eb3b0b37d32"
      },
      "execution_count": null,
      "outputs": [
        {
          "output_type": "execute_result",
          "data": {
            "text/plain": [
              "[name: \"/device:CPU:0\"\n",
              " device_type: \"CPU\"\n",
              " memory_limit: 268435456\n",
              " locality {\n",
              " }\n",
              " incarnation: 406048236056941621\n",
              " xla_global_id: -1, name: \"/device:GPU:0\"\n",
              " device_type: \"GPU\"\n",
              " memory_limit: 14465892352\n",
              " locality {\n",
              "   bus_id: 1\n",
              "   links {\n",
              "   }\n",
              " }\n",
              " incarnation: 2730258782710398293\n",
              " physical_device_desc: \"device: 0, name: Tesla T4, pci bus id: 0000:00:04.0, compute capability: 7.5\"\n",
              " xla_global_id: 416903419]"
            ]
          },
          "metadata": {},
          "execution_count": 11
        }
      ]
    },
    {
      "cell_type": "code",
      "source": [
        "model = Sequential()\n",
        "\n",
        "model.add(Flatten(input_shape=(200,)))\n",
        "model.add(Dense(256, activation='relu', kernel_regularizer=keras.regularizers.l2(0.001)))\n",
        "model.add(Dropout(0.3))\n",
        "model.add(Dense(128,activation='relu', kernel_regularizer=keras.regularizers.l2(0.003)))\n",
        "model.add(Dropout(0.3))\n",
        "model.add(Dense(32, activation='relu', kernel_regularizer = keras.regularizers.l2(0.01)))\n",
        "model.add(Dropout(0.3))\n",
        "model.add(Dense(2, activation='sigmoid'))\n",
        "model.summary()"
      ],
      "metadata": {
        "colab": {
          "base_uri": "https://localhost:8080/"
        },
        "id": "_pirq-hIBd7-",
        "outputId": "44395538-a328-4501-c713-10d911372d24"
      },
      "execution_count": null,
      "outputs": [
        {
          "output_type": "stream",
          "name": "stdout",
          "text": [
            "Model: \"sequential_3\"\n",
            "_________________________________________________________________\n",
            " Layer (type)                Output Shape              Param #   \n",
            "=================================================================\n",
            " flatten_3 (Flatten)         (None, 200)               0         \n",
            "                                                                 \n",
            " dense_12 (Dense)            (None, 256)               51456     \n",
            "                                                                 \n",
            " dropout_9 (Dropout)         (None, 256)               0         \n",
            "                                                                 \n",
            " dense_13 (Dense)            (None, 128)               32896     \n",
            "                                                                 \n",
            " dropout_10 (Dropout)        (None, 128)               0         \n",
            "                                                                 \n",
            " dense_14 (Dense)            (None, 32)                4128      \n",
            "                                                                 \n",
            " dropout_11 (Dropout)        (None, 32)                0         \n",
            "                                                                 \n",
            " dense_15 (Dense)            (None, 2)                 66        \n",
            "                                                                 \n",
            "=================================================================\n",
            "Total params: 88,546\n",
            "Trainable params: 88,546\n",
            "Non-trainable params: 0\n",
            "_________________________________________________________________\n"
          ]
        }
      ]
    },
    {
      "cell_type": "code",
      "source": [
        "adam = keras.optimizers.Adam(lr=1e-4)\n",
        "model.compile(optimizer=adam,\n",
        "             loss=\"sparse_categorical_crossentropy\",\n",
        "             metrics=['accuracy'])"
      ],
      "metadata": {
        "colab": {
          "base_uri": "https://localhost:8080/"
        },
        "id": "kaggcuFJB_2w",
        "outputId": "a595bf18-b284-4705-91a4-aeb19f5e0dd1"
      },
      "execution_count": null,
      "outputs": [
        {
          "output_type": "stream",
          "name": "stderr",
          "text": [
            "/usr/local/lib/python3.7/dist-packages/keras/optimizer_v2/adam.py:105: UserWarning: The `lr` argument is deprecated, use `learning_rate` instead.\n",
            "  super(Adam, self).__init__(name, **kwargs)\n"
          ]
        }
      ]
    },
    {
      "cell_type": "code",
      "source": [
        "hist = model.fit(X_train, y_train,\n",
        "                 validation_data = (X_cv,y_cv),\n",
        "                 epochs = 100,\n",
        "                 batch_size = 32,class_weight={0: 1., 1: 3.})"
      ],
      "metadata": {
        "colab": {
          "base_uri": "https://localhost:8080/"
        },
        "id": "IMZWEOZ4CPYV",
        "outputId": "8a7d93ea-015b-443f-d87b-104f6a965782"
      },
      "execution_count": null,
      "outputs": [
        {
          "output_type": "stream",
          "name": "stdout",
          "text": [
            "Epoch 1/100\n",
            "2623/2623 [==============================] - 11s 4ms/step - loss: 1.7089 - accuracy: 0.5007 - val_loss: 1.5103 - val_accuracy: 0.1221\n",
            "Epoch 2/100\n",
            "2623/2623 [==============================] - 9s 4ms/step - loss: 1.2873 - accuracy: 0.5161 - val_loss: 1.3040 - val_accuracy: 0.2173\n",
            "Epoch 3/100\n",
            "2623/2623 [==============================] - 9s 4ms/step - loss: 1.1857 - accuracy: 0.5541 - val_loss: 1.3479 - val_accuracy: 0.2039\n",
            "Epoch 4/100\n",
            "2623/2623 [==============================] - 9s 4ms/step - loss: 1.1401 - accuracy: 0.5758 - val_loss: 1.1482 - val_accuracy: 0.3120\n",
            "Epoch 5/100\n",
            "2623/2623 [==============================] - 9s 4ms/step - loss: 1.1169 - accuracy: 0.5857 - val_loss: 1.2719 - val_accuracy: 0.2646\n",
            "Epoch 6/100\n",
            "2623/2623 [==============================] - 9s 4ms/step - loss: 1.0986 - accuracy: 0.5936 - val_loss: 1.2263 - val_accuracy: 0.2855\n",
            "Epoch 7/100\n",
            "2623/2623 [==============================] - 11s 4ms/step - loss: 1.0799 - accuracy: 0.6043 - val_loss: 1.2446 - val_accuracy: 0.2986\n",
            "Epoch 8/100\n",
            "2623/2623 [==============================] - 9s 4ms/step - loss: 1.0622 - accuracy: 0.6124 - val_loss: 1.2107 - val_accuracy: 0.3252\n",
            "Epoch 9/100\n",
            "2623/2623 [==============================] - 9s 3ms/step - loss: 1.0438 - accuracy: 0.6244 - val_loss: 1.1804 - val_accuracy: 0.3431\n",
            "Epoch 10/100\n",
            "2623/2623 [==============================] - 9s 4ms/step - loss: 1.0278 - accuracy: 0.6323 - val_loss: 0.9948 - val_accuracy: 0.4386\n",
            "Epoch 11/100\n",
            "2623/2623 [==============================] - 9s 4ms/step - loss: 1.0112 - accuracy: 0.6421 - val_loss: 1.0112 - val_accuracy: 0.4347\n",
            "Epoch 12/100\n",
            "2623/2623 [==============================] - 9s 4ms/step - loss: 0.9947 - accuracy: 0.6525 - val_loss: 1.0239 - val_accuracy: 0.4152\n",
            "Epoch 13/100\n",
            "2623/2623 [==============================] - 9s 4ms/step - loss: 0.9830 - accuracy: 0.6587 - val_loss: 1.0927 - val_accuracy: 0.3963\n",
            "Epoch 14/100\n",
            "2623/2623 [==============================] - 9s 4ms/step - loss: 0.9667 - accuracy: 0.6691 - val_loss: 0.9681 - val_accuracy: 0.4714\n",
            "Epoch 15/100\n",
            "2623/2623 [==============================] - 9s 4ms/step - loss: 0.9567 - accuracy: 0.6757 - val_loss: 1.0326 - val_accuracy: 0.4434\n",
            "Epoch 16/100\n",
            "2623/2623 [==============================] - 9s 4ms/step - loss: 0.9428 - accuracy: 0.6838 - val_loss: 0.9264 - val_accuracy: 0.5131\n",
            "Epoch 17/100\n",
            "2623/2623 [==============================] - 9s 4ms/step - loss: 0.9314 - accuracy: 0.6922 - val_loss: 0.8167 - val_accuracy: 0.5853\n",
            "Epoch 18/100\n",
            "2623/2623 [==============================] - 9s 4ms/step - loss: 0.9192 - accuracy: 0.6996 - val_loss: 0.9456 - val_accuracy: 0.5038\n",
            "Epoch 19/100\n",
            "2623/2623 [==============================] - 11s 4ms/step - loss: 0.9097 - accuracy: 0.7042 - val_loss: 0.8931 - val_accuracy: 0.5373\n",
            "Epoch 20/100\n",
            "2623/2623 [==============================] - 9s 4ms/step - loss: 0.9003 - accuracy: 0.7092 - val_loss: 1.3052 - val_accuracy: 0.3296\n",
            "Epoch 21/100\n",
            "2623/2623 [==============================] - 9s 4ms/step - loss: 0.8887 - accuracy: 0.7151 - val_loss: 1.0039 - val_accuracy: 0.4948\n",
            "Epoch 22/100\n",
            "2623/2623 [==============================] - 10s 4ms/step - loss: 0.8808 - accuracy: 0.7216 - val_loss: 0.9263 - val_accuracy: 0.5330\n",
            "Epoch 23/100\n",
            "2623/2623 [==============================] - 10s 4ms/step - loss: 0.8747 - accuracy: 0.7239 - val_loss: 0.9763 - val_accuracy: 0.5076\n",
            "Epoch 24/100\n",
            "2623/2623 [==============================] - 9s 4ms/step - loss: 0.8654 - accuracy: 0.7306 - val_loss: 0.9910 - val_accuracy: 0.4910\n",
            "Epoch 25/100\n",
            "2623/2623 [==============================] - 9s 4ms/step - loss: 0.8540 - accuracy: 0.7359 - val_loss: 0.7977 - val_accuracy: 0.6152\n",
            "Epoch 26/100\n",
            "2623/2623 [==============================] - 9s 4ms/step - loss: 0.8510 - accuracy: 0.7382 - val_loss: 0.7725 - val_accuracy: 0.6403\n",
            "Epoch 27/100\n",
            "2623/2623 [==============================] - 9s 4ms/step - loss: 0.8448 - accuracy: 0.7407 - val_loss: 0.9382 - val_accuracy: 0.5271\n",
            "Epoch 28/100\n",
            "2623/2623 [==============================] - 9s 4ms/step - loss: 0.8361 - accuracy: 0.7446 - val_loss: 0.9071 - val_accuracy: 0.5578\n",
            "Epoch 29/100\n",
            "2623/2623 [==============================] - 9s 4ms/step - loss: 0.8257 - accuracy: 0.7498 - val_loss: 1.0960 - val_accuracy: 0.4712\n",
            "Epoch 30/100\n",
            "2623/2623 [==============================] - 9s 4ms/step - loss: 0.8215 - accuracy: 0.7518 - val_loss: 1.1968 - val_accuracy: 0.4303\n",
            "Epoch 31/100\n",
            "2623/2623 [==============================] - 9s 4ms/step - loss: 0.8126 - accuracy: 0.7569 - val_loss: 1.1136 - val_accuracy: 0.4537\n",
            "Epoch 32/100\n",
            "2623/2623 [==============================] - 11s 4ms/step - loss: 0.8098 - accuracy: 0.7580 - val_loss: 1.0587 - val_accuracy: 0.4817\n",
            "Epoch 33/100\n",
            "2623/2623 [==============================] - 9s 4ms/step - loss: 0.8068 - accuracy: 0.7585 - val_loss: 0.9210 - val_accuracy: 0.5556\n",
            "Epoch 34/100\n",
            "2623/2623 [==============================] - 9s 4ms/step - loss: 0.8007 - accuracy: 0.7621 - val_loss: 0.9101 - val_accuracy: 0.5680\n",
            "Epoch 35/100\n",
            "2623/2623 [==============================] - 9s 4ms/step - loss: 0.7977 - accuracy: 0.7641 - val_loss: 0.8053 - val_accuracy: 0.6278\n",
            "Epoch 36/100\n",
            "2623/2623 [==============================] - 9s 4ms/step - loss: 0.7917 - accuracy: 0.7661 - val_loss: 1.1805 - val_accuracy: 0.4335\n",
            "Epoch 37/100\n",
            "2623/2623 [==============================] - 9s 4ms/step - loss: 0.7863 - accuracy: 0.7692 - val_loss: 0.8522 - val_accuracy: 0.6028\n",
            "Epoch 38/100\n",
            "2623/2623 [==============================] - 9s 4ms/step - loss: 0.7847 - accuracy: 0.7704 - val_loss: 0.7948 - val_accuracy: 0.6331\n",
            "Epoch 39/100\n",
            "2623/2623 [==============================] - 11s 4ms/step - loss: 0.7771 - accuracy: 0.7736 - val_loss: 0.7560 - val_accuracy: 0.6610\n",
            "Epoch 40/100\n",
            "2623/2623 [==============================] - 9s 4ms/step - loss: 0.7770 - accuracy: 0.7735 - val_loss: 0.9683 - val_accuracy: 0.5403\n",
            "Epoch 41/100\n",
            "2623/2623 [==============================] - 11s 4ms/step - loss: 0.7668 - accuracy: 0.7799 - val_loss: 1.1129 - val_accuracy: 0.4692\n",
            "Epoch 42/100\n",
            "2623/2623 [==============================] - 9s 4ms/step - loss: 0.7624 - accuracy: 0.7815 - val_loss: 0.9523 - val_accuracy: 0.5610\n",
            "Epoch 43/100\n",
            "2623/2623 [==============================] - 9s 4ms/step - loss: 0.7596 - accuracy: 0.7822 - val_loss: 0.8977 - val_accuracy: 0.5873\n",
            "Epoch 44/100\n",
            "2623/2623 [==============================] - 9s 4ms/step - loss: 0.7579 - accuracy: 0.7820 - val_loss: 0.8853 - val_accuracy: 0.5870\n",
            "Epoch 45/100\n",
            "2623/2623 [==============================] - 9s 4ms/step - loss: 0.7562 - accuracy: 0.7834 - val_loss: 0.7529 - val_accuracy: 0.6685\n",
            "Epoch 46/100\n",
            "2623/2623 [==============================] - 9s 4ms/step - loss: 0.7484 - accuracy: 0.7876 - val_loss: 0.9463 - val_accuracy: 0.5557\n",
            "Epoch 47/100\n",
            "2623/2623 [==============================] - 9s 4ms/step - loss: 0.7443 - accuracy: 0.7888 - val_loss: 0.6954 - val_accuracy: 0.7005\n",
            "Epoch 48/100\n",
            "2623/2623 [==============================] - 9s 4ms/step - loss: 0.7407 - accuracy: 0.7913 - val_loss: 0.7692 - val_accuracy: 0.6587\n",
            "Epoch 49/100\n",
            "2623/2623 [==============================] - 9s 4ms/step - loss: 0.7387 - accuracy: 0.7926 - val_loss: 0.7294 - val_accuracy: 0.6811\n",
            "Epoch 50/100\n",
            "2623/2623 [==============================] - 9s 4ms/step - loss: 0.7389 - accuracy: 0.7907 - val_loss: 0.6901 - val_accuracy: 0.7093\n",
            "Epoch 51/100\n",
            "2623/2623 [==============================] - 11s 4ms/step - loss: 0.7321 - accuracy: 0.7943 - val_loss: 0.9375 - val_accuracy: 0.5767\n",
            "Epoch 52/100\n",
            "2623/2623 [==============================] - 9s 4ms/step - loss: 0.7286 - accuracy: 0.7964 - val_loss: 0.7822 - val_accuracy: 0.6521\n",
            "Epoch 53/100\n",
            "2623/2623 [==============================] - 9s 4ms/step - loss: 0.7211 - accuracy: 0.8002 - val_loss: 0.9671 - val_accuracy: 0.5620\n",
            "Epoch 54/100\n",
            "2623/2623 [==============================] - 9s 4ms/step - loss: 0.7212 - accuracy: 0.7991 - val_loss: 0.8775 - val_accuracy: 0.6042\n",
            "Epoch 55/100\n",
            "2623/2623 [==============================] - 11s 4ms/step - loss: 0.7213 - accuracy: 0.7983 - val_loss: 0.8669 - val_accuracy: 0.6083\n",
            "Epoch 56/100\n",
            "2623/2623 [==============================] - 9s 4ms/step - loss: 0.7221 - accuracy: 0.7985 - val_loss: 0.8312 - val_accuracy: 0.6305\n",
            "Epoch 57/100\n",
            "2623/2623 [==============================] - 9s 4ms/step - loss: 0.7097 - accuracy: 0.8047 - val_loss: 0.7463 - val_accuracy: 0.6800\n",
            "Epoch 58/100\n",
            "2623/2623 [==============================] - 9s 4ms/step - loss: 0.7111 - accuracy: 0.8036 - val_loss: 0.9058 - val_accuracy: 0.5918\n",
            "Epoch 59/100\n",
            "2623/2623 [==============================] - 9s 4ms/step - loss: 0.7117 - accuracy: 0.8045 - val_loss: 0.9248 - val_accuracy: 0.5837\n",
            "Epoch 60/100\n",
            "2623/2623 [==============================] - 9s 4ms/step - loss: 0.7063 - accuracy: 0.8066 - val_loss: 0.8882 - val_accuracy: 0.6000\n",
            "Epoch 61/100\n",
            "2623/2623 [==============================] - 9s 4ms/step - loss: 0.7081 - accuracy: 0.8054 - val_loss: 0.7504 - val_accuracy: 0.6755\n",
            "Epoch 62/100\n",
            "2623/2623 [==============================] - 9s 4ms/step - loss: 0.6980 - accuracy: 0.8093 - val_loss: 0.6578 - val_accuracy: 0.7323\n",
            "Epoch 63/100\n",
            "2623/2623 [==============================] - 9s 4ms/step - loss: 0.7031 - accuracy: 0.8059 - val_loss: 0.7058 - val_accuracy: 0.7030\n",
            "Epoch 64/100\n",
            "2623/2623 [==============================] - 9s 4ms/step - loss: 0.6947 - accuracy: 0.8104 - val_loss: 0.7887 - val_accuracy: 0.6553\n",
            "Epoch 65/100\n",
            "2623/2623 [==============================] - 9s 4ms/step - loss: 0.6938 - accuracy: 0.8123 - val_loss: 1.0468 - val_accuracy: 0.5372\n",
            "Epoch 66/100\n",
            "2623/2623 [==============================] - 9s 4ms/step - loss: 0.6887 - accuracy: 0.8143 - val_loss: 0.9019 - val_accuracy: 0.6101\n",
            "Epoch 67/100\n",
            "2623/2623 [==============================] - 11s 4ms/step - loss: 0.6927 - accuracy: 0.8140 - val_loss: 0.7365 - val_accuracy: 0.6882\n",
            "Epoch 68/100\n",
            "2623/2623 [==============================] - 9s 4ms/step - loss: 0.6859 - accuracy: 0.8153 - val_loss: 0.9080 - val_accuracy: 0.6010\n",
            "Epoch 69/100\n",
            "2623/2623 [==============================] - 9s 4ms/step - loss: 0.6841 - accuracy: 0.8167 - val_loss: 0.6428 - val_accuracy: 0.7416\n",
            "Epoch 70/100\n",
            "2623/2623 [==============================] - 9s 4ms/step - loss: 0.6827 - accuracy: 0.8160 - val_loss: 0.8253 - val_accuracy: 0.6431\n",
            "Epoch 71/100\n",
            "2623/2623 [==============================] - 9s 4ms/step - loss: 0.6825 - accuracy: 0.8173 - val_loss: 0.6944 - val_accuracy: 0.7147\n",
            "Epoch 72/100\n",
            "2623/2623 [==============================] - 9s 4ms/step - loss: 0.6795 - accuracy: 0.8180 - val_loss: 0.8543 - val_accuracy: 0.6291\n",
            "Epoch 73/100\n",
            "2623/2623 [==============================] - 9s 4ms/step - loss: 0.6721 - accuracy: 0.8222 - val_loss: 0.8751 - val_accuracy: 0.6187\n",
            "Epoch 74/100\n",
            "2623/2623 [==============================] - 9s 4ms/step - loss: 0.6754 - accuracy: 0.8197 - val_loss: 0.7710 - val_accuracy: 0.6725\n",
            "Epoch 75/100\n",
            "2623/2623 [==============================] - 9s 4ms/step - loss: 0.6683 - accuracy: 0.8212 - val_loss: 0.6762 - val_accuracy: 0.7280\n",
            "Epoch 76/100\n",
            "2623/2623 [==============================] - 11s 4ms/step - loss: 0.6687 - accuracy: 0.8218 - val_loss: 0.6858 - val_accuracy: 0.7233\n",
            "Epoch 77/100\n",
            "2623/2623 [==============================] - 11s 4ms/step - loss: 0.6690 - accuracy: 0.8221 - val_loss: 0.9046 - val_accuracy: 0.6122\n",
            "Epoch 78/100\n",
            "2623/2623 [==============================] - 9s 4ms/step - loss: 0.6683 - accuracy: 0.8210 - val_loss: 0.7046 - val_accuracy: 0.7098\n",
            "Epoch 79/100\n",
            "2623/2623 [==============================] - 9s 4ms/step - loss: 0.6641 - accuracy: 0.8234 - val_loss: 0.8836 - val_accuracy: 0.6198\n",
            "Epoch 80/100\n",
            "2623/2623 [==============================] - 9s 4ms/step - loss: 0.6641 - accuracy: 0.8234 - val_loss: 0.7368 - val_accuracy: 0.6937\n",
            "Epoch 81/100\n",
            "2623/2623 [==============================] - 9s 4ms/step - loss: 0.6606 - accuracy: 0.8249 - val_loss: 0.7381 - val_accuracy: 0.6911\n",
            "Epoch 82/100\n",
            "2623/2623 [==============================] - 9s 4ms/step - loss: 0.6577 - accuracy: 0.8274 - val_loss: 0.6303 - val_accuracy: 0.7599\n",
            "Epoch 83/100\n",
            "2623/2623 [==============================] - 9s 4ms/step - loss: 0.6596 - accuracy: 0.8276 - val_loss: 0.8976 - val_accuracy: 0.6179\n",
            "Epoch 84/100\n",
            "2623/2623 [==============================] - 9s 4ms/step - loss: 0.6508 - accuracy: 0.8312 - val_loss: 0.7944 - val_accuracy: 0.6693\n",
            "Epoch 85/100\n",
            "2623/2623 [==============================] - 11s 4ms/step - loss: 0.6555 - accuracy: 0.8282 - val_loss: 0.8977 - val_accuracy: 0.6198\n",
            "Epoch 86/100\n",
            "2623/2623 [==============================] - 9s 4ms/step - loss: 0.6544 - accuracy: 0.8286 - val_loss: 0.8195 - val_accuracy: 0.6513\n",
            "Epoch 87/100\n",
            "2623/2623 [==============================] - 11s 4ms/step - loss: 0.6508 - accuracy: 0.8294 - val_loss: 0.7855 - val_accuracy: 0.6677\n",
            "Epoch 88/100\n",
            "2623/2623 [==============================] - 10s 4ms/step - loss: 0.6490 - accuracy: 0.8310 - val_loss: 0.7260 - val_accuracy: 0.7038\n",
            "Epoch 89/100\n",
            "2623/2623 [==============================] - 9s 4ms/step - loss: 0.6479 - accuracy: 0.8309 - val_loss: 0.8787 - val_accuracy: 0.6289\n",
            "Epoch 90/100\n",
            "2623/2623 [==============================] - 9s 4ms/step - loss: 0.6512 - accuracy: 0.8311 - val_loss: 0.7202 - val_accuracy: 0.7109\n",
            "Epoch 91/100\n",
            "2623/2623 [==============================] - 9s 4ms/step - loss: 0.6425 - accuracy: 0.8321 - val_loss: 0.7124 - val_accuracy: 0.7151\n",
            "Epoch 92/100\n",
            "2623/2623 [==============================] - 9s 4ms/step - loss: 0.6451 - accuracy: 0.8329 - val_loss: 0.8278 - val_accuracy: 0.6536\n",
            "Epoch 93/100\n",
            "2623/2623 [==============================] - 9s 4ms/step - loss: 0.6393 - accuracy: 0.8348 - val_loss: 0.8418 - val_accuracy: 0.6471\n",
            "Epoch 94/100\n",
            "2623/2623 [==============================] - 9s 4ms/step - loss: 0.6427 - accuracy: 0.8323 - val_loss: 0.9105 - val_accuracy: 0.6174\n",
            "Epoch 95/100\n",
            "2623/2623 [==============================] - 9s 4ms/step - loss: 0.6371 - accuracy: 0.8360 - val_loss: 0.8331 - val_accuracy: 0.6597\n",
            "Epoch 96/100\n",
            "2623/2623 [==============================] - 9s 4ms/step - loss: 0.6388 - accuracy: 0.8350 - val_loss: 0.7207 - val_accuracy: 0.7105\n",
            "Epoch 97/100\n",
            "2623/2623 [==============================] - 9s 4ms/step - loss: 0.6329 - accuracy: 0.8375 - val_loss: 0.7999 - val_accuracy: 0.6742\n",
            "Epoch 98/100\n",
            "2623/2623 [==============================] - 9s 4ms/step - loss: 0.6371 - accuracy: 0.8365 - val_loss: 0.6493 - val_accuracy: 0.7527\n",
            "Epoch 99/100\n",
            "2623/2623 [==============================] - 10s 4ms/step - loss: 0.6321 - accuracy: 0.8380 - val_loss: 0.6549 - val_accuracy: 0.7490\n",
            "Epoch 100/100\n",
            "2623/2623 [==============================] - 9s 4ms/step - loss: 0.6344 - accuracy: 0.8369 - val_loss: 0.8425 - val_accuracy: 0.6497\n"
          ]
        }
      ]
    },
    {
      "cell_type": "code",
      "source": [
        "test_error, test_accuracy = model.evaluate(X_cv, y_cv, verbose=1)\n",
        "print(f\"Test accuracy: {test_accuracy}\")"
      ],
      "metadata": {
        "colab": {
          "base_uri": "https://localhost:8080/"
        },
        "id": "PsIB8kkzCP87",
        "outputId": "98c19f71-03a9-48f2-8c2d-5e51e384c59a"
      },
      "execution_count": null,
      "outputs": [
        {
          "output_type": "stream",
          "name": "stdout",
          "text": [
            "753/753 [==============================] - 2s 2ms/step - loss: 0.8425 - accuracy: 0.6497\n",
            "Test accuracy: 0.6496574878692627\n"
          ]
        }
      ]
    },
    {
      "cell_type": "code",
      "source": [
        "plt.figure(figsize=(50,75))\n",
        "fig, axs = plt.subplots(2)\n",
        "\n",
        "# accuracy \n",
        "axs[0].plot(hist.history[\"accuracy\"], label=\"train accuracy\")\n",
        "axs[0].plot(hist.history[\"val_accuracy\"], label=\"test accuracy\")    \n",
        "axs[0].set_ylabel(\"Accuracy\")\n",
        "axs[0].legend(loc=\"lower right\")\n",
        "axs[0].set_title(\"Accuracy eval\")\n",
        "    \n",
        "print(\"\\n\")\n",
        "# Error \n",
        "axs[1].plot(hist.history[\"loss\"], label=\"train error\")\n",
        "axs[1].plot(hist.history[\"val_loss\"], label=\"test error\")    \n",
        "axs[1].set_ylabel(\"Error\")\n",
        "axs[1].set_xlabel(\"Epoch\")\n",
        "axs[1].legend(loc=\"upper right\")\n",
        "axs[1].set_title(\"Error eval\")\n",
        "    \n",
        "plt.show()"
      ],
      "metadata": {
        "colab": {
          "base_uri": "https://localhost:8080/",
          "height": 347
        },
        "id": "IBHj_2LHCTcP",
        "outputId": "43d3b249-5782-44a0-97c4-d65e553a44b5"
      },
      "execution_count": null,
      "outputs": [
        {
          "output_type": "stream",
          "name": "stdout",
          "text": [
            "\n",
            "\n"
          ]
        },
        {
          "output_type": "display_data",
          "data": {
            "text/plain": [
              "<Figure size 3600x5400 with 0 Axes>"
            ]
          },
          "metadata": {}
        },
        {
          "output_type": "display_data",
          "data": {
            "image/png": "[encoded data removed]",
            "text/plain": [
              "<Figure size 432x288 with 2 Axes>"
            ]
          },
          "metadata": {
            "needs_background": "light"
          }
        }
      ]
    },
    {
      "cell_type": "code",
      "source": [
        "y_pred = model.predict(X_cv)\n",
        "y_pred = np.argmax(y_pred, axis=-1)\n",
        "print(\"Cross Validation Metrics\")\n",
        "met(y_pred,y_cv)\n",
        "print(\"___________******************************____________\")\n",
        "print(classification_report(y_pred,y_cv))\n",
        "print(\"___________******************************____________\")"
      ],
      "metadata": {
        "colab": {
          "base_uri": "https://localhost:8080/"
        },
        "id": "OuojJrOaJX0S",
        "outputId": "8a21e05f-d023-4064-dcdf-092ee298569e"
      },
      "execution_count": null,
      "outputs": [
        {
          "output_type": "stream",
          "name": "stdout",
          "text": [
            "Cross Validation Metrics\n",
            "accuracy:0.649657463151339\n",
            "Precesion:0.5455472467709042\n",
            "Recall:0.18435561681598897\n",
            "F1 Score:0.27558379120879123\n",
            "Confusion Matrix:\n",
            "[[14042  1337]\n",
            " [ 7101  1605]]\n",
            "___________******************************____________\n",
            "              precision    recall  f1-score   support\n",
            "\n",
            "           0       0.66      0.91      0.77     15379\n",
            "           1       0.55      0.18      0.28      8706\n",
            "\n",
            "    accuracy                           0.65     24085\n",
            "   macro avg       0.60      0.55      0.52     24085\n",
            "weighted avg       0.62      0.65      0.59     24085\n",
            "\n",
            "___________******************************____________\n"
          ]
        }
      ]
    },
    {
      "cell_type": "code",
      "source": [
        ""
      ],
      "metadata": {
        "id": "d9sjmkNEJbgG"
      },
      "execution_count": null,
      "outputs": []
    },
    {
      "cell_type": "markdown",
      "source": [
        "**Conclusion**\n",
        "\n",
        "\n",
        "*   Recall is low for validation data set\n",
        "*   Tried to assign weights but recall didnt improve\n",
        "*   Model is bad at predicting Isbadbuy, prediction has more false negatives missing a lot of bad purchases\n",
        "*   It effected the accuracy \n",
        "\n",
        "\n"
      ],
      "metadata": {
        "id": "qif8rKtjK8Tj"
      }
    },
    {
      "cell_type": "code",
      "source": [
        ""
      ],
      "metadata": {
        "id": "HmzOJvt7PqZd"
      },
      "execution_count": null,
      "outputs": []
    }
  ]
}